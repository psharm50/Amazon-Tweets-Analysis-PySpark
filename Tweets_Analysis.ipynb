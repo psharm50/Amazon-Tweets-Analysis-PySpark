{
  "nbformat": 4,
  "nbformat_minor": 0,
  "metadata": {
    "colab": {
      "provenance": [],
      "collapsed_sections": []
    },
    "kernelspec": {
      "name": "python3",
      "display_name": "Python 3"
    },
    "language_info": {
      "name": "python"
    }
  },
  "cells": [
    {
      "cell_type": "code",
      "execution_count": 1,
      "metadata": {
        "id": "j0AM4WYsEd_S",
        "colab": {
          "base_uri": "https://localhost:8080/"
        },
        "outputId": "d3cdfe83-42c5-4d8e-930d-a2cec0f3e6ba"
      },
      "outputs": [
        {
          "output_type": "stream",
          "name": "stdout",
          "text": [
            "Looking in indexes: https://pypi.org/simple, https://us-python.pkg.dev/colab-wheels/public/simple/\n",
            "Requirement already satisfied: pyspark in /usr/local/lib/python3.7/dist-packages (3.3.1)\n",
            "Requirement already satisfied: py4j==0.10.9.5 in /usr/local/lib/python3.7/dist-packages (from pyspark) (0.10.9.5)\n",
            "Looking in indexes: https://pypi.org/simple, https://us-python.pkg.dev/colab-wheels/public/simple/\n",
            "Requirement already satisfied: findspark in /usr/local/lib/python3.7/dist-packages (2.0.1)\n"
          ]
        }
      ],
      "source": [
        "#Import libraries\n",
        "!pip install pyspark\n",
        "!pip install findspark"
      ]
    },
    {
      "cell_type": "code",
      "source": [
        "import findspark\n",
        "findspark.init()\n",
        "import pyspark\n",
        "from pyspark import SparkContext, SparkConf\n",
        "from pyspark.sql import SparkSession\n",
        "import pandas as pd\n",
        "import csv\n",
        "import re\n",
        "import pyspark.sql.functions as sqf\n",
        "from pyspark import SparkContext, SQLContext\n",
        "from pyspark.sql.functions import split\n",
        "from pyspark.sql.functions import col, expr, when\n",
        "\n",
        "# Create a SparkSession and SparkContext\n",
        "sc = SparkSession.builder.master(\"local[*]\").appName('sparkdf').getOrCreate()"
      ],
      "metadata": {
        "id": "r1L4hUgdZc0P"
      },
      "execution_count": 2,
      "outputs": []
    },
    {
      "cell_type": "code",
      "source": [
        "df= sc.read.csv('Amazon_Responded_Oct05.csv',header = True,inferSchema=\"true\")\n",
        "#Showing only 10 members of selected data\n",
        "df_fetch3=df[['tweet_created_at','user_screen_name','user_id_str']]\n",
        "df_fetch3.show(10)"
      ],
      "metadata": {
        "colab": {
          "base_uri": "https://localhost:8080/"
        },
        "id": "EbQq6alWO3Ye",
        "outputId": "f6ed385f-cfd2-49f3-b5c4-806a32033eaf"
      },
      "execution_count": 3,
      "outputs": [
        {
          "output_type": "stream",
          "name": "stdout",
          "text": [
            "+--------------------+----------------+-----------+\n",
            "|    tweet_created_at|user_screen_name|user_id_str|\n",
            "+--------------------+----------------+-----------+\n",
            "|Tue Nov 01 01:57:...|     SeanEPanjab|  143515471|\n",
            "|Tue Nov 01 02:39:...|      AmazonHelp|   85741735|\n",
            "|Tue Nov 01 17:14:...|     SeanEPanjab|  143515471|\n",
            "|Tue Nov 01 17:15:...|     SeanEPanjab|  143515471|\n",
            "|Tue Nov 01 17:19:...|      AmazonHelp|   85741735|\n",
            "|Tue Nov 01 17:25:...|      AmazonHelp|   85741735|\n",
            "|Tue Nov 01 17:55:...|     SeanEPanjab|  143515471|\n",
            "|Tue Nov 01 17:55:...|     SeanEPanjab|  143515471|\n",
            "|Tue Nov 01 18:02:...|      AmazonHelp|   85741735|\n",
            "|Tue Nov 01 03:51:...|   aakashwangnoo|   71457972|\n",
            "+--------------------+----------------+-----------+\n",
            "only showing top 10 rows\n",
            "\n"
          ]
        }
      ]
    },
    {
      "cell_type": "code",
      "source": [
        "# split data with space '' into 5 parts to fetch only date\n",
        "tweetdatesplit = split(df_fetch3[\"tweet_created_at\"], ' ')\n",
        "tweetdatayear= df_fetch3.withColumn('Month', tweetdatesplit.getItem(1)).withColumn('Day', tweetdatesplit.getItem(2)).withColumn('Year', tweetdatesplit.getItem(5))\n",
        "tweetdatayear.show(10)"
      ],
      "metadata": {
        "colab": {
          "base_uri": "https://localhost:8080/"
        },
        "outputId": "f39d9f94-86f0-4736-aa77-e948cd915de2",
        "id": "9SvgHjzoICiI"
      },
      "execution_count": 4,
      "outputs": [
        {
          "output_type": "stream",
          "name": "stdout",
          "text": [
            "+--------------------+----------------+-----------+-----+---+----+\n",
            "|    tweet_created_at|user_screen_name|user_id_str|Month|Day|Year|\n",
            "+--------------------+----------------+-----------+-----+---+----+\n",
            "|Tue Nov 01 01:57:...|     SeanEPanjab|  143515471|  Nov| 01|2016|\n",
            "|Tue Nov 01 02:39:...|      AmazonHelp|   85741735|  Nov| 01|2016|\n",
            "|Tue Nov 01 17:14:...|     SeanEPanjab|  143515471|  Nov| 01|2016|\n",
            "|Tue Nov 01 17:15:...|     SeanEPanjab|  143515471|  Nov| 01|2016|\n",
            "|Tue Nov 01 17:19:...|      AmazonHelp|   85741735|  Nov| 01|2016|\n",
            "|Tue Nov 01 17:25:...|      AmazonHelp|   85741735|  Nov| 01|2016|\n",
            "|Tue Nov 01 17:55:...|     SeanEPanjab|  143515471|  Nov| 01|2016|\n",
            "|Tue Nov 01 17:55:...|     SeanEPanjab|  143515471|  Nov| 01|2016|\n",
            "|Tue Nov 01 18:02:...|      AmazonHelp|   85741735|  Nov| 01|2016|\n",
            "|Tue Nov 01 03:51:...|   aakashwangnoo|   71457972|  Nov| 01|2016|\n",
            "+--------------------+----------------+-----------+-----+---+----+\n",
            "only showing top 10 rows\n",
            "\n"
          ]
        }
      ]
    },
    {
      "cell_type": "code",
      "source": [
        "dfconcat1 = tweetdatayear.withColumn(\"tweet_created_at\",sqf.concat(sqf.col(\"Month\"),sqf.col(\"Day\"),sqf.col(\"Year\")))\n",
        "dfconcat1.show(5)"
      ],
      "metadata": {
        "colab": {
          "base_uri": "https://localhost:8080/"
        },
        "id": "8741IYNhIwNK",
        "outputId": "aab64252-97d2-4359-aa56-42c7169e7fed"
      },
      "execution_count": 5,
      "outputs": [
        {
          "output_type": "stream",
          "name": "stdout",
          "text": [
            "+----------------+----------------+-----------+-----+---+----+\n",
            "|tweet_created_at|user_screen_name|user_id_str|Month|Day|Year|\n",
            "+----------------+----------------+-----------+-----+---+----+\n",
            "|       Nov012016|     SeanEPanjab|  143515471|  Nov| 01|2016|\n",
            "|       Nov012016|      AmazonHelp|   85741735|  Nov| 01|2016|\n",
            "|       Nov012016|     SeanEPanjab|  143515471|  Nov| 01|2016|\n",
            "|       Nov012016|     SeanEPanjab|  143515471|  Nov| 01|2016|\n",
            "|       Nov012016|      AmazonHelp|   85741735|  Nov| 01|2016|\n",
            "+----------------+----------------+-----------+-----+---+----+\n",
            "only showing top 5 rows\n",
            "\n"
          ]
        }
      ]
    },
    {
      "cell_type": "markdown",
      "source": [
        "Add spaces to the concatenated field."
      ],
      "metadata": {
        "id": "GtnSSmUDPoFU"
      }
    },
    {
      "cell_type": "code",
      "source": [
        "dfconcat2 = dfconcat1.withColumn(\"tweet_created_at\",sqf.concat(sqf.col(\"Month\"),sqf.lit(\" \"),sqf.col(\"Day\"),sqf.lit(\" \"),sqf.col(\"Year\")))\n",
        "dfconcat2.show(5)"
      ],
      "metadata": {
        "colab": {
          "base_uri": "https://localhost:8080/"
        },
        "id": "kwXPhyUAPycD",
        "outputId": "dd4526dd-1dfb-4a90-cee8-434665072470"
      },
      "execution_count": 6,
      "outputs": [
        {
          "output_type": "stream",
          "name": "stdout",
          "text": [
            "+----------------+----------------+-----------+-----+---+----+\n",
            "|tweet_created_at|user_screen_name|user_id_str|Month|Day|Year|\n",
            "+----------------+----------------+-----------+-----+---+----+\n",
            "|     Nov 01 2016|     SeanEPanjab|  143515471|  Nov| 01|2016|\n",
            "|     Nov 01 2016|      AmazonHelp|   85741735|  Nov| 01|2016|\n",
            "|     Nov 01 2016|     SeanEPanjab|  143515471|  Nov| 01|2016|\n",
            "|     Nov 01 2016|     SeanEPanjab|  143515471|  Nov| 01|2016|\n",
            "|     Nov 01 2016|      AmazonHelp|   85741735|  Nov| 01|2016|\n",
            "+----------------+----------------+-----------+-----+---+----+\n",
            "only showing top 5 rows\n",
            "\n"
          ]
        }
      ]
    },
    {
      "cell_type": "code",
      "source": [
        "data_final= dfconcat2.select('tweet_created_at','user_screen_name','user_id_str').dropDuplicates()\n",
        "data_final.show(10)"
      ],
      "metadata": {
        "colab": {
          "base_uri": "https://localhost:8080/"
        },
        "id": "Fw0x_w4kP_zX",
        "outputId": "99d4b908-b855-40c9-8e38-310dac0ddfb5"
      },
      "execution_count": 7,
      "outputs": [
        {
          "output_type": "stream",
          "name": "stdout",
          "text": [
            "+----------------+----------------+-----------+\n",
            "|tweet_created_at|user_screen_name|user_id_str|\n",
            "+----------------+----------------+-----------+\n",
            "|     Nov 01 2016|         YIF_JAK|   24787056|\n",
            "|     Nov 02 2016|     SPWseventy7| 1675908295|\n",
            "|     Nov 02 2016|  MW3GAMEUPDATES|   40573844|\n",
            "|     Nov 03 2016| StrongenoughMW1|  391582041|\n",
            "|     Nov 04 2016|    Linked2Steve|  144895933|\n",
            "|     Nov 08 2016|     _GAMER_4421| 2504948270|\n",
            "|     Nov 08 2016|  butchrosenberg| 1536789132|\n",
            "|     Nov 08 2016|      EuricaeriS|   46162630|\n",
            "|     Nov 11 2016|   Dogearedtatty|  716850865|\n",
            "|     Nov 12 2016| HakimUjjainwala|  281911333|\n",
            "+----------------+----------------+-----------+\n",
            "only showing top 10 rows\n",
            "\n"
          ]
        }
      ]
    },
    {
      "cell_type": "markdown",
      "source": [
        "**Step 1:** Find out the users who are active in at least five listed days (i.e., created posts in at least 5 days) in Amazon_Responded_Oct05.csv and save their “user_screen_name” and “user_id_str” in the dataframe “daily_active_users” (see below). Report how many active users you find."
      ],
      "metadata": {
        "id": "HENTfUGBQV2D"
      }
    },
    {
      "cell_type": "code",
      "source": [
        "#active users who have created posts in at least 5 days\n",
        "active_users = data_final.groupBy(data_final.user_screen_name,data_final.user_id_str).count().filter(\"count >= 5\")\n",
        "daily_active_users = active_users.select('user_screen_name','user_id_str')\n",
        "\n",
        "#fetch the count\n",
        "print(\"COUNT OF DAILY ACTIVE USERS:\", daily_active_users.count())\n",
        "daily_active_users.show(10)"
      ],
      "metadata": {
        "colab": {
          "base_uri": "https://localhost:8080/"
        },
        "id": "t1zgaLLebwqw",
        "outputId": "0a407ae7-3158-4d66-c379-c514cac915e7"
      },
      "execution_count": 8,
      "outputs": [
        {
          "output_type": "stream",
          "name": "stdout",
          "text": [
            "COUNT OF DAILY ACTIVE USERS: 599\n",
            "+----------------+------------------+\n",
            "|user_screen_name|       user_id_str|\n",
            "+----------------+------------------+\n",
            "|       SkullyRox|          20391647|\n",
            "|  sky_regenrated|         483059773|\n",
            "|   Gentlemen_Sam|         441572163|\n",
            "|        remakoul|814372928695521280|\n",
            "|          MtnrMS|        3309102108|\n",
            "|  whisperandmoan|         113516042|\n",
            "| roxyunderwood93|         295334669|\n",
            "|        TCMuffin|          35591749|\n",
            "|  ChaurasiaRohin|706032993794527232|\n",
            "|        trallyus|          11702402|\n",
            "+----------------+------------------+\n",
            "only showing top 10 rows\n",
            "\n"
          ]
        }
      ]
    },
    {
      "cell_type": "markdown",
      "source": [
        "**Step 2:** A company would like to conduct an A/B test on Twitter. The experiment.txt file includes the user_id_str they selected as potential experiment targets. Please create a dataframe “experiment_user” to document the selected user id and whether they are active users (join the dataframe from step 1).\n",
        "\n",
        "Then calculate the percentage of active user and print out the result."
      ],
      "metadata": {
        "id": "rIxlVhuWm60j"
      }
    },
    {
      "cell_type": "code",
      "source": [
        "#### Read experiments.txt file \n",
        "\n",
        "#df_exp = open('experiments.txt', 'r')\n",
        "#print(exp_df.readline(10))\n",
        "\n",
        "df_experi= sc.read.csv('experiments.txt',header = False,inferSchema=\"True\")\n",
        "df_experi = df_experi.withColumnRenamed(\"_c0\", \"user_id_experi\")\n",
        "df_experi.show(10)"
      ],
      "metadata": {
        "colab": {
          "base_uri": "https://localhost:8080/"
        },
        "id": "N6maeFklm-Si",
        "outputId": "3979f929-cd31-4ff8-91ec-49b372d40860"
      },
      "execution_count": 9,
      "outputs": [
        {
          "output_type": "stream",
          "name": "stdout",
          "text": [
            "+--------------+\n",
            "|user_id_experi|\n",
            "+--------------+\n",
            "|     143515471|\n",
            "|      85741735|\n",
            "|      71457972|\n",
            "|    2908108256|\n",
            "|     106799492|\n",
            "|      59156981|\n",
            "|     902137872|\n",
            "|     110354554|\n",
            "|      97424433|\n",
            "|      62364020|\n",
            "+--------------+\n",
            "only showing top 10 rows\n",
            "\n"
          ]
        }
      ]
    },
    {
      "cell_type": "code",
      "source": [
        "# join experiments.txt file with data frame daily_active_users.\n",
        "df_join1 = df_experi.join(daily_active_users,daily_active_users.user_id_str == df_experi.user_id_experi,\"left\")\n",
        "df_join1.show(10)"
      ],
      "metadata": {
        "colab": {
          "base_uri": "https://localhost:8080/"
        },
        "id": "t-y0FyKwwvK1",
        "outputId": "fe7dd01a-f95a-49ea-fa5a-51aa2c2a011a"
      },
      "execution_count": 10,
      "outputs": [
        {
          "output_type": "stream",
          "name": "stdout",
          "text": [
            "+--------------+----------------+-----------+\n",
            "|user_id_experi|user_screen_name|user_id_str|\n",
            "+--------------+----------------+-----------+\n",
            "|      85741735|      AmazonHelp|   85741735|\n",
            "|     143515471|            null|       null|\n",
            "|     110354554| praveen_pandey_|  110354554|\n",
            "|      97424433|            null|       null|\n",
            "|     902137872|     mybharatraj|  902137872|\n",
            "|    2706101936|            null|       null|\n",
            "|      62364020|            null|       null|\n",
            "|     106799492|            null|       null|\n",
            "|    2908108256|            null|       null|\n",
            "|      71457972|            null|       null|\n",
            "+--------------+----------------+-----------+\n",
            "only showing top 10 rows\n",
            "\n"
          ]
        }
      ]
    },
    {
      "cell_type": "code",
      "source": [
        "## Condition to check active users.\n",
        "whether_active = expr(\"\"\"If(user_id_str = user_id_experi, \"Yes\", \"No\")\"\"\")\n",
        "\n",
        "## creating a new df with Active - Yes or not Active - No status\n",
        "experiment_user = df_join1.withColumn(\"whether_active\", whether_active).select('user_id_experi','whether_active')\n",
        "experiment_user.show(10)\n",
        "\n",
        "## Count fetch for total, active and non active users.\n",
        "Total_exp_Users = experiment_user.count()\n",
        "Active = experiment_user.groupBy(\"whether_active\").count().collect()[1][\"count\"]\n",
        "Non_Active = experiment_user.groupBy(\"whether_active\").count().collect()[0][\"count\"]\n",
        "Percent = Active/(Total_exp_Users)*100\n",
        "\n",
        "## print results.\n",
        "print(\"Total number of Experiment users:\", Total_exp_Users)\n",
        "print(\"Number of active users are:\",Active)\n",
        "print(\"Number of non-active users are:\",Non_Active)\n",
        "print(\"Percentage of active users are:\", Percent,\"%\")"
      ],
      "metadata": {
        "colab": {
          "base_uri": "https://localhost:8080/"
        },
        "id": "J9wsQHDdWh-c",
        "outputId": "3a2efb38-bad7-4d95-8b91-409ee6307e25"
      },
      "execution_count": 11,
      "outputs": [
        {
          "output_type": "stream",
          "name": "stdout",
          "text": [
            "+--------------+--------------+\n",
            "|user_id_experi|whether_active|\n",
            "+--------------+--------------+\n",
            "|     143515471|            No|\n",
            "|      85741735|           Yes|\n",
            "|      71457972|            No|\n",
            "|    2908108256|            No|\n",
            "|     106799492|            No|\n",
            "|      59156981|            No|\n",
            "|     902137872|           Yes|\n",
            "|     110354554|           Yes|\n",
            "|      97424433|            No|\n",
            "|      62364020|            No|\n",
            "+--------------+--------------+\n",
            "only showing top 10 rows\n",
            "\n",
            "Total number of Experiment users: 5000\n",
            "Number of active users are: 121\n",
            "Number of non-active users are: 4879\n",
            "Percentage of active users are: 2.42 %\n"
          ]
        }
      ]
    },
    {
      "cell_type": "markdown",
      "source": [
        "**Step 3:** In homework 2, you have already known how to join 2 tables in spark. Now you are going to perform a 3-table join task. \n",
        "The company provided their revised experiment target list in final_experiment.csv file. Compared with the former experiment.txt file, they removed several users and added a new column “info” to indicate whether the user is female (F) or male (M). However, they are still missing some information. \n"
      ],
      "metadata": {
        "id": "vL5evjw_xU_2"
      }
    },
    {
      "cell_type": "code",
      "source": [
        "#Loading the final_experiment.csv and showing the blank file\n",
        "final_experiment = sc.read.csv('final_experiment.csv', header = True)\n",
        "final_experiment.show(10)"
      ],
      "metadata": {
        "colab": {
          "base_uri": "https://localhost:8080/"
        },
        "id": "TfKo7feirx2_",
        "outputId": "8fac5bad-a024-4ddd-cabe-31ce8dd893d9"
      },
      "execution_count": 12,
      "outputs": [
        {
          "output_type": "stream",
          "name": "stdout",
          "text": [
            "+-----------+----+--------------+----------------+\n",
            "|user_id_str|info|whether_active|user_screen_name|\n",
            "+-----------+----+--------------+----------------+\n",
            "|   62364020|   F|          null|            null|\n",
            "| 2706101936|   M|          null|            null|\n",
            "|    5654472|   F|          null|            null|\n",
            "|  145579921|   F|          null|            null|\n",
            "| 2502172122|   M|          null|            null|\n",
            "|  243716471|   F|          null|            null|\n",
            "| 2610379644|   M|          null|            null|\n",
            "|  123138418|   M|          null|            null|\n",
            "|  257376764|   F|          null|            null|\n",
            "|  269145593|   M|          null|            null|\n",
            "+-----------+----+--------------+----------------+\n",
            "only showing top 10 rows\n",
            "\n"
          ]
        }
      ]
    },
    {
      "cell_type": "code",
      "source": [
        "# Join aliasing\n",
        "final_exp=final_experiment.alias('final_exp')\n",
        "exp_user = experiment_user.alias('exp_user')\n",
        "active_user = daily_active_users.alias('active_user')"
      ],
      "metadata": {
        "id": "bP1XQenEsrOl"
      },
      "execution_count": 13,
      "outputs": []
    },
    {
      "cell_type": "markdown",
      "source": [
        "Here we will perfom join for 3 data sources"
      ],
      "metadata": {
        "id": "zf98HEE8xnT6"
      }
    },
    {
      "cell_type": "code",
      "source": [
        "final_exp = final_exp.drop('whether_active','user_screen_name')\n",
        "\n",
        "# join experiment and active users\n",
        "join_actexp = exp_user.join(active_user, active_user.user_id_str == exp_user.user_id_experi, how='left').drop('user_id_str')\n",
        "\n",
        "## final join\n",
        "join_final_output = final_exp.join(join_actexp, final_exp.user_id_str == join_actexp.user_id_experi,how='left').drop('user_id_experi')\n",
        "join_final_output.show(10)"
      ],
      "metadata": {
        "colab": {
          "base_uri": "https://localhost:8080/"
        },
        "id": "naj-OF9bst6J",
        "outputId": "7e0a9ca4-c870-4f78-e76a-a203b7c5d925"
      },
      "execution_count": 14,
      "outputs": [
        {
          "output_type": "stream",
          "name": "stdout",
          "text": [
            "+-----------+----+--------------+----------------+\n",
            "|user_id_str|info|whether_active|user_screen_name|\n",
            "+-----------+----+--------------+----------------+\n",
            "|    5654472|   F|            No|            null|\n",
            "|   62364020|   F|            No|            null|\n",
            "|  123138418|   M|            No|            null|\n",
            "|  145579921|   F|            No|            null|\n",
            "|  243716471|   F|            No|            null|\n",
            "|  257376764|   F|            No|            null|\n",
            "|  269145593|   M|            No|            null|\n",
            "|  370711133|   F|            No|            null|\n",
            "| 2502172122|   M|            No|            null|\n",
            "| 2610379644|   M|            No|            null|\n",
            "+-----------+----+--------------+----------------+\n",
            "only showing top 10 rows\n",
            "\n"
          ]
        }
      ]
    },
    {
      "cell_type": "code",
      "source": [
        "final_experiment = join_final_output.na.fill(\"Not Found\")\n",
        "final_experiment.show(10)\n",
        "\n",
        "#Getting_count\n",
        "Yes_count = final_experiment.groupBy(\"whether_active\").count().collect()[2][\"count\"]\n",
        "No_Count = final_experiment.groupBy(\"whether_active\").count().collect()[1][\"count\"]\n",
        "Not_Found = final_experiment.groupBy(\"whether_active\").count().collect()[0][\"count\"]\n",
        "\n",
        "#Printing results.\n",
        "print(\"Total Number of users: \",final_experiment.count())\n",
        "print(\"Total Number of Not found users\",Not_Found)\n",
        "print(\"In final_experiment, number of inactive users are:\",No_Count)\n",
        "print(\"In final_experiment, number of active users are:\",Yes_count)"
      ],
      "metadata": {
        "colab": {
          "base_uri": "https://localhost:8080/"
        },
        "id": "fiY9aToYsvr1",
        "outputId": "e7af13d0-295c-4ae6-ce10-6f7611c0fa2c"
      },
      "execution_count": 15,
      "outputs": [
        {
          "output_type": "stream",
          "name": "stdout",
          "text": [
            "+-----------+----+--------------+----------------+\n",
            "|user_id_str|info|whether_active|user_screen_name|\n",
            "+-----------+----+--------------+----------------+\n",
            "|    5654472|   F|            No|       Not Found|\n",
            "|   62364020|   F|            No|       Not Found|\n",
            "|  123138418|   M|            No|       Not Found|\n",
            "|  145579921|   F|            No|       Not Found|\n",
            "|  243716471|   F|            No|       Not Found|\n",
            "|  257376764|   F|            No|       Not Found|\n",
            "|  269145593|   M|            No|       Not Found|\n",
            "|  370711133|   F|            No|       Not Found|\n",
            "| 2502172122|   M|            No|       Not Found|\n",
            "| 2610379644|   M|            No|       Not Found|\n",
            "+-----------+----+--------------+----------------+\n",
            "only showing top 10 rows\n",
            "\n",
            "Total Number of users:  4500\n",
            "Total Number of Not found users 262\n",
            "In final_experiment, number of inactive users are: 4142\n",
            "In final_experiment, number of active users are: 96\n"
          ]
        }
      ]
    },
    {
      "cell_type": "code",
      "source": [
        "#Convert sparks to pandas dataframes\n",
        "daily_active_users = daily_active_users.toPandas()\n",
        "experiment_user = experiment_user.toPandas()\n",
        "final_experiment = final_experiment.toPandas()"
      ],
      "metadata": {
        "id": "CW2PKWA_sxp-"
      },
      "execution_count": 16,
      "outputs": []
    },
    {
      "cell_type": "code",
      "source": [
        "#Export to .csv files\n",
        "daily_active_users.to_csv('daily_active_users.csv', index = False, header=True)\n",
        "experiment_user.to_csv('experiment_user.csv', index = False, header=True)\n",
        "final_experiment.to_csv('final_experiment.csv', index = False, header=True)"
      ],
      "metadata": {
        "id": "PWcMMPaOs5Br"
      },
      "execution_count": 19,
      "outputs": []
    },
    {
      "cell_type": "markdown",
      "source": [
        "Part 2 :\n",
        "In all 2 joins were used.\n",
        "1. For the Join condition LEFT join was used under the condition daily_active_users.user_id_str == df_experi.user_id_experi\n",
        "which helped to join data related to active users and experiment users.\n",
        "2. For the joining output from Step 1 and Step 2 with Final experiment tables also LEFT join was used again based on user id condition which helped to identify inactive users and were marked as Not found"
      ],
      "metadata": {
        "id": "UX2zww4czX2g"
      }
    }
  ]
}